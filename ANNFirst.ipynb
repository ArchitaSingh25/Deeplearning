{
 "cells": [
  {
   "cell_type": "code",
   "execution_count": 82,
   "id": "e3f36ae8-e279-4018-9757-58f15b86442a",
   "metadata": {},
   "outputs": [],
   "source": [
    "import pandas as pd\n",
    "from tensorflow import keras\n",
    "from tensorflow.keras import layers\n",
    "from keras_tuner import RandomSearch "
   ]
  },
  {
   "cell_type": "code",
   "execution_count": 83,
   "id": "eeafb96d-2329-4f14-a6ee-df4bd489956a",
   "metadata": {},
   "outputs": [
    {
     "data": {
      "text/plain": [
       "(1093, 9)"
      ]
     },
     "execution_count": 83,
     "metadata": {},
     "output_type": "execute_result"
    }
   ],
   "source": [
    "# Air quality index prodiction\n",
    "df=pd.read_csv(r\"C:\\Users\\Asus\\Downloads\\Real_Combine.csv\") \n",
    "\n",
    "df.shape"
   ]
  },
  {
   "cell_type": "code",
   "execution_count": 84,
   "id": "bbf3ad21-de32-438d-81f6-03be45e83561",
   "metadata": {},
   "outputs": [
    {
     "data": {
      "text/html": [
       "<div>\n",
       "<style scoped>\n",
       "    .dataframe tbody tr th:only-of-type {\n",
       "        vertical-align: middle;\n",
       "    }\n",
       "\n",
       "    .dataframe tbody tr th {\n",
       "        vertical-align: top;\n",
       "    }\n",
       "\n",
       "    .dataframe thead th {\n",
       "        text-align: right;\n",
       "    }\n",
       "</style>\n",
       "<table border=\"1\" class=\"dataframe\">\n",
       "  <thead>\n",
       "    <tr style=\"text-align: right;\">\n",
       "      <th></th>\n",
       "      <th>T</th>\n",
       "      <th>TM</th>\n",
       "      <th>Tm</th>\n",
       "      <th>SLP</th>\n",
       "      <th>H</th>\n",
       "      <th>VV</th>\n",
       "      <th>V</th>\n",
       "      <th>VM</th>\n",
       "      <th>PM 2.5</th>\n",
       "    </tr>\n",
       "  </thead>\n",
       "  <tbody>\n",
       "    <tr>\n",
       "      <th>0</th>\n",
       "      <td>7.4</td>\n",
       "      <td>9.8</td>\n",
       "      <td>4.8</td>\n",
       "      <td>1017.6</td>\n",
       "      <td>93.0</td>\n",
       "      <td>0.5</td>\n",
       "      <td>4.3</td>\n",
       "      <td>9.4</td>\n",
       "      <td>219.720833</td>\n",
       "    </tr>\n",
       "    <tr>\n",
       "      <th>1</th>\n",
       "      <td>7.8</td>\n",
       "      <td>12.7</td>\n",
       "      <td>4.4</td>\n",
       "      <td>1018.5</td>\n",
       "      <td>87.0</td>\n",
       "      <td>0.6</td>\n",
       "      <td>4.4</td>\n",
       "      <td>11.1</td>\n",
       "      <td>182.187500</td>\n",
       "    </tr>\n",
       "  </tbody>\n",
       "</table>\n",
       "</div>"
      ],
      "text/plain": [
       "     T    TM   Tm     SLP     H   VV    V    VM      PM 2.5\n",
       "0  7.4   9.8  4.8  1017.6  93.0  0.5  4.3   9.4  219.720833\n",
       "1  7.8  12.7  4.4  1018.5  87.0  0.6  4.4  11.1  182.187500"
      ]
     },
     "execution_count": 84,
     "metadata": {},
     "output_type": "execute_result"
    }
   ],
   "source": [
    "df.head(2)\n",
    "\n"
   ]
  },
  {
   "cell_type": "code",
   "execution_count": 85,
   "id": "d749ec8b-2559-497b-9fde-6db0924b74e8",
   "metadata": {},
   "outputs": [],
   "source": [
    "X=df.iloc[:,:-1] ## independent features\n",
    "Y=df.iloc[:,-1]  ##dependent features"
   ]
  },
  {
   "cell_type": "code",
   "execution_count": 86,
   "id": "f33c0102-ae29-427d-91d8-0e438590ae49",
   "metadata": {},
   "outputs": [],
   "source": [
    "from sklearn.preprocessing import StandardScaler\n",
    "\n",
    "scaler = StandardScaler()\n",
    "X_scaled = scaler.fit_transform(X)"
   ]
  },
  {
   "cell_type": "markdown",
   "id": "9793d930-baaa-480f-b43b-e6296752c018",
   "metadata": {},
   "source": [
    "# Hyperparameters\n",
    "1. How many number of hidden layers we should have?\n",
    "2. How many number of neurons we should have in hidden layers?\n",
    "3. Leraning rate"
   ]
  },
  {
   "cell_type": "code",
   "execution_count": 87,
   "id": "c1ce5752-1086-4448-babf-8be6523c3685",
   "metadata": {},
   "outputs": [],
   "source": [
    "def build_model(hp):\n",
    "    model = keras.Sequential()\n",
    "    for i in range(hp.Int('num_layers', 2, 10)):\n",
    "        model.add(layers.Dense(units=hp.Int('units_' + str(i),\n",
    "                                            min_value=32,\n",
    "                                            max_value=512,\n",
    "                                            step=32),\n",
    "                               activation='relu'))\n",
    "    model.add(layers.Dense(1, activation='linear'))\n",
    "    model.compile(\n",
    "        optimizer=keras.optimizers.Adam(\n",
    "            hp.Choice('learning_rate', [1e-3, 1e-4, 5e-4])),\n",
    "        loss='mean_absolute_error',\n",
    "        metrics=['mean_absolute_error'])\n",
    "    return model"
   ]
  },
  {
   "cell_type": "markdown",
   "id": "457dbd1e-5a51-42b2-9b02-aa0fcea0883b",
   "metadata": {},
   "source": [
    "# Context:\n",
    "hp is usually a HyperParameters object that gets passed into a model-building function. This object helps define which hyperparameters to search over and what values they can take.\n",
    "\n",
    "# Breakdown of hp.Int('num_layers', 2, 20):\n",
    "hp: The hyperparameter object\n",
    ".Int(): A method used to define an integer-valued hyperparameter.\n",
    "\n",
    "'num_layers': The name/key of this hyperparameter. This is how it will be referenced later.\n",
    "\n",
    "2, 20: The lower and upper bounds for this integer hyperparameter. So the tuning algorithm can pick any integer between 2 and 20 (inclusive).\n",
    "\n",
    "hp.Int will try with different different values whereas hp.choice will either chose one among the choised(here learning rate) "
   ]
  },
  {
   "cell_type": "code",
   "execution_count": 93,
   "id": "36cdae63-51b6-4f6a-bfb7-c2d5d6950bb7",
   "metadata": {},
   "outputs": [
    {
     "name": "stdout",
     "output_type": "stream",
     "text": [
      "Reloading Tuner from project\\Air Quality Index\\tuner0.json\n"
     ]
    }
   ],
   "source": [
    "tuner = RandomSearch(\n",
    "    build_model,\n",
    "    objective='val_mean_absolute_error',\n",
    "    max_trials=10,\n",
    "    executions_per_trial=3,\n",
    "    directory='project',\n",
    "    project_name='Air Quality Index')\n",
    "\n",
    "tuner.oracle.max_consecutive_failed_trials = 10  # Increased tolerance\n"
   ]
  },
  {
   "cell_type": "code",
   "execution_count": 94,
   "id": "09f7aefa-c84e-4d2d-8061-59cfdcd85b2e",
   "metadata": {},
   "outputs": [
    {
     "name": "stdout",
     "output_type": "stream",
     "text": [
      "Search space summary\n",
      "Default search space size: 19\n",
      "num_layers (Int)\n",
      "{'default': None, 'conditions': [], 'min_value': 2, 'max_value': 20, 'step': 1, 'sampling': 'linear'}\n",
      "units_0 (Int)\n",
      "{'default': None, 'conditions': [], 'min_value': 32, 'max_value': 512, 'step': 32, 'sampling': 'linear'}\n",
      "units_1 (Int)\n",
      "{'default': None, 'conditions': [], 'min_value': 32, 'max_value': 512, 'step': 32, 'sampling': 'linear'}\n",
      "learning_rate (Choice)\n",
      "{'default': 0.01, 'conditions': [], 'values': [0.01, 0.001, 0.0001], 'ordered': True}\n",
      "units_2 (Int)\n",
      "{'default': None, 'conditions': [], 'min_value': 32, 'max_value': 512, 'step': 32, 'sampling': 'linear'}\n",
      "units_3 (Int)\n",
      "{'default': None, 'conditions': [], 'min_value': 32, 'max_value': 512, 'step': 32, 'sampling': 'linear'}\n",
      "units_4 (Int)\n",
      "{'default': None, 'conditions': [], 'min_value': 32, 'max_value': 512, 'step': 32, 'sampling': 'linear'}\n",
      "units_5 (Int)\n",
      "{'default': None, 'conditions': [], 'min_value': 32, 'max_value': 512, 'step': 32, 'sampling': 'linear'}\n",
      "units_6 (Int)\n",
      "{'default': None, 'conditions': [], 'min_value': 32, 'max_value': 512, 'step': 32, 'sampling': 'linear'}\n",
      "units_7 (Int)\n",
      "{'default': None, 'conditions': [], 'min_value': 32, 'max_value': 512, 'step': 32, 'sampling': 'linear'}\n",
      "units_8 (Int)\n",
      "{'default': None, 'conditions': [], 'min_value': 32, 'max_value': 512, 'step': 32, 'sampling': 'linear'}\n",
      "units_9 (Int)\n",
      "{'default': None, 'conditions': [], 'min_value': 32, 'max_value': 512, 'step': 32, 'sampling': 'linear'}\n",
      "units_10 (Int)\n",
      "{'default': None, 'conditions': [], 'min_value': 32, 'max_value': 512, 'step': 32, 'sampling': 'linear'}\n",
      "units_11 (Int)\n",
      "{'default': None, 'conditions': [], 'min_value': 32, 'max_value': 512, 'step': 32, 'sampling': 'linear'}\n",
      "units_12 (Int)\n",
      "{'default': None, 'conditions': [], 'min_value': 32, 'max_value': 512, 'step': 32, 'sampling': 'linear'}\n",
      "units_13 (Int)\n",
      "{'default': None, 'conditions': [], 'min_value': 32, 'max_value': 512, 'step': 32, 'sampling': 'linear'}\n",
      "units_14 (Int)\n",
      "{'default': None, 'conditions': [], 'min_value': 32, 'max_value': 512, 'step': 32, 'sampling': 'linear'}\n",
      "units_15 (Int)\n",
      "{'default': None, 'conditions': [], 'min_value': 32, 'max_value': 512, 'step': 32, 'sampling': 'linear'}\n",
      "units_16 (Int)\n",
      "{'default': None, 'conditions': [], 'min_value': 32, 'max_value': 512, 'step': 32, 'sampling': 'linear'}\n"
     ]
    }
   ],
   "source": [
    "tuner.search_space_summary()"
   ]
  },
  {
   "cell_type": "code",
   "execution_count": 95,
   "id": "6f9090e1-2295-480a-99c5-720532dd47db",
   "metadata": {},
   "outputs": [],
   "source": [
    "from sklearn.model_selection import train_test_split\n",
    "X_train, X_test, y_train, y_test = train_test_split(X_scaled, Y, test_size=0.3, random_state=0)"
   ]
  },
  {
   "cell_type": "code",
   "execution_count": 96,
   "id": "827ce0fd-4e81-4eb9-b7b3-c61b36ce2c9b",
   "metadata": {},
   "outputs": [
    {
     "name": "stdout",
     "output_type": "stream",
     "text": [
      "Trial 10 Complete [00h 00m 45s]\n",
      "val_mean_absolute_error: nan\n",
      "\n",
      "Best val_mean_absolute_error So Far: 41.41451772054037\n",
      "Total elapsed time: 01h 24m 08s\n"
     ]
    }
   ],
   "source": [
    "tuner.search(X_train, y_train,\n",
    "             epochs=10,\n",
    "             validation_data=(X_test, y_test),\n",
    "             verbose=2)"
   ]
  },
  {
   "cell_type": "code",
   "execution_count": 92,
   "id": "109072ae-62f0-48f1-9c8a-f8e416978c7e",
   "metadata": {},
   "outputs": [
    {
     "name": "stdout",
     "output_type": "stream",
     "text": [
      "Results summary\n",
      "Results in project\\Air Quality Index\n",
      "Showing 10 best trials\n",
      "Objective(name=\"val_mean_absolute_error\", direction=\"min\")\n",
      "\n",
      "Trial 3 summary\n",
      "Hyperparameters:\n",
      "num_layers: 3\n",
      "units_0: 96\n",
      "units_1: 352\n",
      "learning_rate: 0.001\n",
      "units_2: 448\n",
      "units_3: 192\n",
      "units_4: 352\n",
      "units_5: 384\n",
      "units_6: 352\n",
      "units_7: 192\n",
      "units_8: 320\n",
      "units_9: 128\n",
      "units_10: 288\n",
      "units_11: 128\n",
      "units_12: 160\n",
      "units_13: 160\n",
      "units_14: 512\n",
      "units_15: 288\n",
      "units_16: 384\n",
      "Score: 41.41451772054037\n",
      "\n",
      "Trial 4 summary\n",
      "Hyperparameters:\n",
      "num_layers: 12\n",
      "units_0: 64\n",
      "units_1: 64\n",
      "learning_rate: 0.0001\n",
      "units_2: 288\n",
      "units_3: 448\n",
      "units_4: 288\n",
      "units_5: 32\n",
      "units_6: 448\n",
      "units_7: 96\n",
      "units_8: 192\n",
      "units_9: 320\n",
      "units_10: 160\n",
      "units_11: 512\n",
      "units_12: 192\n",
      "units_13: 96\n",
      "units_14: 416\n",
      "units_15: 416\n",
      "units_16: 288\n",
      "Score: 48.257957458496094\n",
      "\n",
      "Trial 1 summary\n",
      "Hyperparameters:\n",
      "num_layers: 3\n",
      "units_0: 384\n",
      "units_1: 256\n",
      "learning_rate: 0.01\n",
      "units_2: 512\n",
      "units_3: 288\n",
      "units_4: 64\n",
      "units_5: 384\n",
      "units_6: 256\n",
      "units_7: 64\n",
      "units_8: 320\n",
      "units_9: 320\n",
      "units_10: 448\n",
      "units_11: 64\n",
      "units_12: 480\n",
      "units_13: 384\n",
      "units_14: 96\n",
      "units_15: 288\n",
      "units_16: 96\n",
      "Score: nan\n",
      "\n",
      "Trial 2 summary\n",
      "Hyperparameters:\n",
      "num_layers: 4\n",
      "units_0: 288\n",
      "units_1: 480\n",
      "learning_rate: 0.0001\n",
      "units_2: 512\n",
      "units_3: 224\n",
      "units_4: 96\n",
      "units_5: 256\n",
      "units_6: 256\n",
      "units_7: 480\n",
      "units_8: 64\n",
      "units_9: 352\n",
      "units_10: 160\n",
      "units_11: 480\n",
      "units_12: 288\n",
      "units_13: 160\n",
      "units_14: 64\n",
      "units_15: 160\n",
      "units_16: 128\n",
      "Score: nan\n",
      "\n",
      "Trial 0 summary\n",
      "Hyperparameters:\n",
      "num_layers: 17\n",
      "units_0: 448\n",
      "units_1: 320\n",
      "learning_rate: 0.0001\n",
      "units_2: 32\n",
      "units_3: 32\n",
      "units_4: 32\n",
      "units_5: 32\n",
      "units_6: 32\n",
      "units_7: 32\n",
      "units_8: 32\n",
      "units_9: 32\n",
      "units_10: 32\n",
      "units_11: 32\n",
      "units_12: 32\n",
      "units_13: 32\n",
      "units_14: 32\n",
      "units_15: 32\n",
      "units_16: 32\n",
      "Score: nan\n"
     ]
    }
   ],
   "source": [
    "tuner.results_summary()\n"
   ]
  },
  {
   "cell_type": "markdown",
   "id": "1ba7b022-6c86-4f0e-b4f1-da48068b5ced",
   "metadata": {},
   "source": [
    "# Errors faced and their resolution\n",
    "## 1. Number of consecutive failures exceeded the limit of 3\n",
    "solution:tuner.oracle.max_consecutive_failed_trials = 10  # Increased tolerance\n",
    "\n",
    "How to check that there is problem in data:\n",
    "do the sanity check for model\n",
    "If the models shows no output: check for null values in you data if not present do standardization for data\n",
    "\n",
    "## 2. Also tried Early stoppping but it did not worked\n",
    "## 3. changed the learning rate and number of layers from  2to 20  to 1 to 4"
   ]
  },
  {
   "cell_type": "code",
   "execution_count": 53,
   "id": "13081ad5-b02d-46f9-8869-ff9260fc2aad",
   "metadata": {},
   "outputs": [
    {
     "name": "stderr",
     "output_type": "stream",
     "text": [
      "C:\\Users\\Asus\\anaconda3\\envs\\deeplearning\\lib\\site-packages\\keras\\src\\layers\\core\\dense.py:87: UserWarning: Do not pass an `input_shape`/`input_dim` argument to a layer. When using Sequential models, prefer using an `Input(shape)` object as the first layer in the model instead.\n",
      "  super().__init__(activity_regularizer=activity_regularizer, **kwargs)\n"
     ]
    },
    {
     "name": "stdout",
     "output_type": "stream",
     "text": [
      "Epoch 1/5\n",
      "\u001b[1m24/24\u001b[0m \u001b[32m━━━━━━━━━━━━━━━━━━━━\u001b[0m\u001b[37m\u001b[0m \u001b[1m3s\u001b[0m 28ms/step - loss: 110.5312 - val_loss: 104.7027\n",
      "Epoch 2/5\n",
      "\u001b[1m24/24\u001b[0m \u001b[32m━━━━━━━━━━━━━━━━━━━━\u001b[0m\u001b[37m\u001b[0m \u001b[1m1s\u001b[0m 18ms/step - loss: 109.9045 - val_loss: 101.7760\n",
      "Epoch 3/5\n",
      "\u001b[1m24/24\u001b[0m \u001b[32m━━━━━━━━━━━━━━━━━━━━\u001b[0m\u001b[37m\u001b[0m \u001b[1m0s\u001b[0m 14ms/step - loss: 103.6511 - val_loss: 95.1094\n",
      "Epoch 4/5\n",
      "\u001b[1m24/24\u001b[0m \u001b[32m━━━━━━━━━━━━━━━━━━━━\u001b[0m\u001b[37m\u001b[0m \u001b[1m0s\u001b[0m 12ms/step - loss: 97.0635 - val_loss: 82.8369\n",
      "Epoch 5/5\n",
      "\u001b[1m24/24\u001b[0m \u001b[32m━━━━━━━━━━━━━━━━━━━━\u001b[0m\u001b[37m\u001b[0m \u001b[1m0s\u001b[0m 16ms/step - loss: 84.0995 - val_loss: 69.0827\n"
     ]
    },
    {
     "data": {
      "text/plain": [
       "<keras.src.callbacks.history.History at 0x25378e8df40>"
      ]
     },
     "execution_count": 53,
     "metadata": {},
     "output_type": "execute_result"
    }
   ],
   "source": [
    "#Sanity check\n",
    "model = keras.Sequential([\n",
    "    layers.Dense(64, activation='relu', input_shape=(X_train.shape[1],)),\n",
    "    layers.Dense(64, activation='relu'),\n",
    "    layers.Dense(1, activation='linear')\n",
    "])\n",
    "model.compile(optimizer='adam', loss='mean_absolute_error')\n",
    "model.fit(X_train, y_train, epochs=5, validation_data=(X_test, y_test))"
   ]
  },
  {
   "cell_type": "code",
   "execution_count": 69,
   "id": "c45bd670-fa13-4d26-8921-cedae7466db6",
   "metadata": {},
   "outputs": [
    {
     "name": "stderr",
     "output_type": "stream",
     "text": [
      "C:\\Users\\Asus\\anaconda3\\envs\\deeplearning\\lib\\site-packages\\sklearn\\utils\\validation.py:2739: UserWarning: X does not have valid feature names, but StandardScaler was fitted with feature names\n",
      "  warnings.warn(\n",
      "C:\\Users\\Asus\\anaconda3\\envs\\deeplearning\\lib\\site-packages\\keras\\src\\saving\\saving_lib.py:757: UserWarning: Skipping variable loading for optimizer 'adam', because it has 2 variables whereas the saved optimizer has 18 variables. \n",
      "  saveable.load_own_variables(weights_store.get(inner_path))\n"
     ]
    },
    {
     "name": "stdout",
     "output_type": "stream",
     "text": [
      "\u001b[1m1/1\u001b[0m \u001b[32m━━━━━━━━━━━━━━━━━━━━\u001b[0m\u001b[37m\u001b[0m \u001b[1m0s\u001b[0m 222ms/step\n",
      "Predicted Air Quality Index: 274.46295\n"
     ]
    }
   ],
   "source": [
    "import numpy as np\n",
    "\n",
    "sample = [7.4, 9.8, 4.8, 1017.6, 93.0, 0.5, 4.3, 9.4]\n",
    "sample = np.array(sample).reshape(1, -1)\n",
    "sample_scaled = scaler.transform(sample)\n",
    "\n",
    "best_model = tuner.get_best_models(num_models=1)[0]\n",
    "prediction = best_model.predict(sample_scaled)\n",
    "\n",
    "print(\"Predicted Air Quality Index:\", prediction[0][0])\n"
   ]
  }
 ],
 "metadata": {
  "kernelspec": {
   "display_name": "Python 3 (ipykernel)",
   "language": "python",
   "name": "python3"
  },
  "language_info": {
   "codemirror_mode": {
    "name": "ipython",
    "version": 3
   },
   "file_extension": ".py",
   "mimetype": "text/x-python",
   "name": "python",
   "nbconvert_exporter": "python",
   "pygments_lexer": "ipython3",
   "version": "3.9.21"
  }
 },
 "nbformat": 4,
 "nbformat_minor": 5
}
